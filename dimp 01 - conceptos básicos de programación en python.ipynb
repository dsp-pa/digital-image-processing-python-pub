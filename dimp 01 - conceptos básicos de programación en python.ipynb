{
 "nbformat": 4,
 "nbformat_minor": 0,
 "metadata": {
  "colab": {
   "name": "dimp 01.ipynb",
   "provenance": [],
   "collapsed_sections": [],
   "authorship_tag": "ABX9TyNe8hNcnxNIcgpdW3htLP93"
  },
  "kernelspec": {
   "name": "python3",
   "display_name": "Python 3"
  },
  "language_info": {
   "name": "python"
  }
 },
 "cells": [
  {
   "cell_type": "markdown",
   "source": [
    "Laboratorio #1\n",
    "Entregado por: **Roberto Hassell**\n"
   ],
   "metadata": {
    "id": "-1Uzm7SaMxgL",
    "pycharm": {
     "name": "#%% md\n"
    }
   }
  },
  {
   "cell_type": "code",
   "source": [
    "import matplotlib.pyplot as plt \n",
    "import numpy as np"
   ],
   "metadata": {
    "id": "FV3NsWWENA4Z",
    "executionInfo": {
     "status": "ok",
     "timestamp": 1653146659978,
     "user_tz": 300,
     "elapsed": 193,
     "user": {
      "displayName": "Roberto Hassell",
      "userId": "17572397621764271091"
     }
    },
    "pycharm": {
     "name": "#%%\n"
    }
   },
   "execution_count": 5,
   "outputs": []
  },
  {
   "cell_type": "code",
   "execution_count": 8,
   "metadata": {
    "id": "lHDFt4DzMga1",
    "executionInfo": {
     "status": "ok",
     "timestamp": 1653146809445,
     "user_tz": 300,
     "elapsed": 190,
     "user": {
      "displayName": "Roberto Hassell",
      "userId": "17572397621764271091"
     }
    },
    "pycharm": {
     "name": "#%%\n"
    }
   },
   "outputs": [],
   "source": [
    "v = 5.0000"
   ]
  },
  {
   "cell_type": "code",
   "source": [
    "print(v*2)"
   ],
   "metadata": {
    "colab": {
     "base_uri": "https://localhost:8080/"
    },
    "id": "lUpzn8UJOW84",
    "executionInfo": {
     "status": "ok",
     "timestamp": 1653146886476,
     "user_tz": 300,
     "elapsed": 216,
     "user": {
      "displayName": "Roberto Hassell",
      "userId": "17572397621764271091"
     }
    },
    "outputId": "b059879a-514f-4041-d234-946d037130bb",
    "pycharm": {
     "name": "#%%\n"
    }
   },
   "execution_count": 12,
   "outputs": [
    {
     "output_type": "stream",
     "name": "stdout",
     "text": [
      "10.0\n"
     ]
    }
   ]
  },
  {
   "cell_type": "markdown",
   "source": [
    "## Operaciones aritméticas básicas"
   ],
   "metadata": {
    "id": "foKwpeaiPpB8",
    "pycharm": {
     "name": "#%% md\n"
    }
   }
  },
  {
   "cell_type": "code",
   "source": [
    "5+2"
   ],
   "metadata": {
    "colab": {
     "base_uri": "https://localhost:8080/"
    },
    "id": "x7bUdCVMOooA",
    "executionInfo": {
     "status": "ok",
     "timestamp": 1653147094306,
     "user_tz": 300,
     "elapsed": 193,
     "user": {
      "displayName": "Roberto Hassell",
      "userId": "17572397621764271091"
     }
    },
    "outputId": "87da6a2b-ea6c-4436-d760-093c4ccf8103",
    "pycharm": {
     "name": "#%%\n"
    }
   },
   "execution_count": 18,
   "outputs": [
    {
     "output_type": "execute_result",
     "data": {
      "text/plain": [
       "7"
      ]
     },
     "metadata": {},
     "execution_count": 18
    }
   ]
  },
  {
   "cell_type": "code",
   "source": [
    "5*3"
   ],
   "metadata": {
    "colab": {
     "base_uri": "https://localhost:8080/"
    },
    "id": "qQKSesu_PB9x",
    "executionInfo": {
     "status": "ok",
     "timestamp": 1653147094553,
     "user_tz": 300,
     "elapsed": 3,
     "user": {
      "displayName": "Roberto Hassell",
      "userId": "17572397621764271091"
     }
    },
    "outputId": "1f315572-6656-45c4-93ed-be1adfd98fe6",
    "pycharm": {
     "name": "#%%\n"
    }
   },
   "execution_count": 19,
   "outputs": [
    {
     "output_type": "execute_result",
     "data": {
      "text/plain": [
       "15"
      ]
     },
     "metadata": {},
     "execution_count": 19
    }
   ]
  },
  {
   "cell_type": "code",
   "source": [
    "5-9"
   ],
   "metadata": {
    "colab": {
     "base_uri": "https://localhost:8080/"
    },
    "id": "M53tYfmqPEJa",
    "executionInfo": {
     "status": "ok",
     "timestamp": 1653147094984,
     "user_tz": 300,
     "elapsed": 3,
     "user": {
      "displayName": "Roberto Hassell",
      "userId": "17572397621764271091"
     }
    },
    "outputId": "3386c87c-2e60-412f-92e8-2da7b90d02aa",
    "pycharm": {
     "name": "#%%\n"
    }
   },
   "execution_count": 20,
   "outputs": [
    {
     "output_type": "execute_result",
     "data": {
      "text/plain": [
       "-4"
      ]
     },
     "metadata": {},
     "execution_count": 20
    }
   ]
  },
  {
   "cell_type": "code",
   "source": [
    "5/2"
   ],
   "metadata": {
    "colab": {
     "base_uri": "https://localhost:8080/"
    },
    "id": "aCGP9tHIPGKX",
    "executionInfo": {
     "status": "ok",
     "timestamp": 1653147095186,
     "user_tz": 300,
     "elapsed": 7,
     "user": {
      "displayName": "Roberto Hassell",
      "userId": "17572397621764271091"
     }
    },
    "outputId": "cf3eac6b-f00d-4bfa-a60b-d2596647b663",
    "pycharm": {
     "name": "#%%\n"
    }
   },
   "execution_count": 21,
   "outputs": [
    {
     "output_type": "execute_result",
     "data": {
      "text/plain": [
       "2.5"
      ]
     },
     "metadata": {},
     "execution_count": 21
    }
   ]
  },
  {
   "cell_type": "code",
   "source": [
    "2 ** 10"
   ],
   "metadata": {
    "colab": {
     "base_uri": "https://localhost:8080/"
    },
    "id": "bWcl3S_VPJ4C",
    "executionInfo": {
     "status": "ok",
     "timestamp": 1653147095386,
     "user_tz": 300,
     "elapsed": 205,
     "user": {
      "displayName": "Roberto Hassell",
      "userId": "17572397621764271091"
     }
    },
    "outputId": "b5a35565-bf0e-4bc1-d7d3-decdab535c1d",
    "pycharm": {
     "name": "#%%\n"
    }
   },
   "execution_count": 22,
   "outputs": [
    {
     "output_type": "execute_result",
     "data": {
      "text/plain": [
       "1024"
      ]
     },
     "metadata": {},
     "execution_count": 22
    }
   ]
  },
  {
   "cell_type": "markdown",
   "source": [],
   "metadata": {
    "id": "mmApsnWYPurR",
    "pycharm": {
     "name": "#%% md\n"
    }
   }
  },
  {
   "cell_type": "code",
   "source": [
    "name = \"Roberto\""
   ],
   "metadata": {
    "id": "gknxYHeXP1RE",
    "executionInfo": {
     "status": "ok",
     "timestamp": 1653147149328,
     "user_tz": 300,
     "elapsed": 191,
     "user": {
      "displayName": "Roberto Hassell",
      "userId": "17572397621764271091"
     }
    },
    "pycharm": {
     "name": "#%%\n"
    }
   },
   "execution_count": 23,
   "outputs": []
  },
  {
   "cell_type": "code",
   "source": [
    "print(\"Hola \" +  name)"
   ],
   "metadata": {
    "colab": {
     "base_uri": "https://localhost:8080/"
    },
    "id": "sgJgbcO3Pcqw",
    "executionInfo": {
     "status": "ok",
     "timestamp": 1653147185533,
     "user_tz": 300,
     "elapsed": 241,
     "user": {
      "displayName": "Roberto Hassell",
      "userId": "17572397621764271091"
     }
    },
    "outputId": "22ed503d-84a6-4d98-ebf1-264442aaca59",
    "pycharm": {
     "name": "#%%\n"
    }
   },
   "execution_count": 26,
   "outputs": [
    {
     "output_type": "stream",
     "name": "stdout",
     "text": [
      "Hola Roberto\n"
     ]
    }
   ]
  },
  {
   "cell_type": "code",
   "source": [
    "lista = [0, 3, 5]"
   ],
   "metadata": {
    "id": "PAWwt-BOP8ec",
    "executionInfo": {
     "status": "ok",
     "timestamp": 1653147326908,
     "user_tz": 300,
     "elapsed": 198,
     "user": {
      "displayName": "Roberto Hassell",
      "userId": "17572397621764271091"
     }
    },
    "pycharm": {
     "name": "#%%\n"
    }
   },
   "execution_count": 31,
   "outputs": []
  },
  {
   "cell_type": "code",
   "source": [
    "print(lista)"
   ],
   "metadata": {
    "colab": {
     "base_uri": "https://localhost:8080/"
    },
    "id": "uT-JNWLsQb6k",
    "executionInfo": {
     "status": "ok",
     "timestamp": 1653147319843,
     "user_tz": 300,
     "elapsed": 198,
     "user": {
      "displayName": "Roberto Hassell",
      "userId": "17572397621764271091"
     }
    },
    "outputId": "2fa60819-a6bb-45f2-fc6d-20bfdf71c5e3",
    "pycharm": {
     "name": "#%%\n"
    }
   },
   "execution_count": 30,
   "outputs": [
    {
     "output_type": "stream",
     "name": "stdout",
     "text": [
      "[0, 3, 5, 'hola']\n"
     ]
    }
   ]
  },
  {
   "cell_type": "code",
   "source": [
    "v = 10\n",
    "\n",
    "if v == 10:\n",
    "  print(\"Era 10\")\n",
    "else:\n",
    "  print(\"No era 10\")\n",
    "\n",
    "print(\"Salí del if\")"
   ],
   "metadata": {
    "colab": {
     "base_uri": "https://localhost:8080/"
    },
    "id": "DAufXZ8MQdLg",
    "executionInfo": {
     "status": "ok",
     "timestamp": 1653147557459,
     "user_tz": 300,
     "elapsed": 5,
     "user": {
      "displayName": "Roberto Hassell",
      "userId": "17572397621764271091"
     }
    },
    "outputId": "9e034359-44d5-4d33-df4d-8ca5dd0619be",
    "pycharm": {
     "name": "#%%\n"
    }
   },
   "execution_count": 34,
   "outputs": [
    {
     "output_type": "stream",
     "name": "stdout",
     "text": [
      "Era 10\n",
      "Salí del if\n"
     ]
    }
   ]
  },
  {
   "cell_type": "code",
   "source": [
    "\n",
    "\n",
    "\n",
    "\n",
    "\n",
    "\n",
    "\n",
    "\n",
    "\n",
    "for i in range(10):\n",
    "  print(i)"
   ],
   "metadata": {
    "colab": {
     "base_uri": "https://localhost:8080/"
    },
    "id": "9k-5kFI6RHLn",
    "executionInfo": {
     "status": "ok",
     "timestamp": 1653147894588,
     "user_tz": 300,
     "elapsed": 219,
     "user": {
      "displayName": "Roberto Hassell",
      "userId": "17572397621764271091"
     }
    },
    "outputId": "a1d30571-2f14-4657-9b94-1f06b0d360f8",
    "pycharm": {
     "name": "#%%\n"
    }
   },
   "execution_count": 37,
   "outputs": [
    {
     "output_type": "stream",
     "name": "stdout",
     "text": [
      "0\n",
      "1\n",
      "2\n",
      "3\n",
      "4\n",
      "5\n",
      "6\n",
      "7\n",
      "8\n",
      "9\n"
     ]
    }
   ]
  },
  {
   "cell_type": "code",
   "source": [
    " "
   ],
   "metadata": {
    "id": "9EdhsKrLSP88",
    "pycharm": {
     "name": "#%%\n"
    }
   },
   "execution_count": null,
   "outputs": []
  }
 ]
}